{
 "cells": [
  {
   "cell_type": "code",
   "execution_count": 25,
   "id": "ddafe616",
   "metadata": {},
   "outputs": [],
   "source": [
    "import time \n",
    "import pyautogui\n",
    "import pyperclip\n",
    "\n",
    "pyautogui.PAUSE = 0.5\n",
    "\n",
    "time.sleep(2)\n",
    "pyautogui.hotkey('ctrl' , 't' ) # hotkey to open a new tab in chrome\n",
    "\n",
    "link = 'https://www.baidu.com/'\n",
    "\n",
    "pyperclip.copy(link)\n",
    "\n",
    "pyautogui.hotkey('ctrl' , 'v' ) # hotkey to open a new tab in chrome\n",
    "pyautogui.hotkey('enter') \n",
    "\n",
    "time.sleep(3)\n",
    "pyautogui.click(805,356)\n",
    "\n",
    "pyperclip.copy('ednaldo pereira 图')\n",
    "pyautogui.hotkey('ctrl' , 'v' ) \n",
    "pyautogui.hotkey('enter') \n",
    "\n",
    "time.sleep(2)\n",
    "pyautogui.click(482,183)\n",
    "\n",
    "time.sleep(7)\n",
    "# pyautogui.click(1915,350)\n",
    "pyautogui.click(1915,846)\n",
    "\n",
    "time.sleep(2)\n",
    "pyautogui.click(616,720)\n",
    "\n",
    "time.sleep(5)\n",
    "pyautogui.click(491,116)\n",
    "pyautogui.hotkey('ctrl' , 'a' ) \n",
    "pyperclip.copy('futanari')\n",
    "pyautogui.hotkey('ctrl' , 'v' ) \n",
    "time.sleep(1)\n",
    "pyautogui.hotkey('enter')\n",
    "\n",
    "pyautogui.click(1118,63)\n",
    "pyperclip.copy('https://tenor.com/view/monkey-phone-on-the-gif-21806695')\n",
    "pyautogui.hotkey('ctrl' , 'v' ) \n",
    "pyautogui.hotkey('enter')\n",
    "\n"
   ]
  },
  {
   "cell_type": "code",
   "execution_count": 26,
   "id": "b7cc7f30",
   "metadata": {},
   "outputs": [
    {
     "data": {
      "text/plain": [
       "Point(x=544, y=210)"
      ]
     },
     "execution_count": 26,
     "metadata": {},
     "output_type": "execute_result"
    }
   ],
   "source": [
    "time.sleep(5)\n",
    "pyautogui.position()"
   ]
  },
  {
   "cell_type": "code",
   "execution_count": null,
   "id": "7ea9b2a4",
   "metadata": {},
   "outputs": [],
   "source": []
  }
 ],
 "metadata": {
  "kernelspec": {
   "display_name": "Python 3",
   "language": "python",
   "name": "python3"
  },
  "language_info": {
   "codemirror_mode": {
    "name": "ipython",
    "version": 3
   },
   "file_extension": ".py",
   "mimetype": "text/x-python",
   "name": "python",
   "nbconvert_exporter": "python",
   "pygments_lexer": "ipython3",
   "version": "3.8.8"
  }
 },
 "nbformat": 4,
 "nbformat_minor": 5
}
