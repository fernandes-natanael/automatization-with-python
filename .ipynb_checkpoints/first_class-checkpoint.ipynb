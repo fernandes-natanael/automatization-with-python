{
 "cells": [
  {
   "cell_type": "markdown",
   "id": "44c251eb",
   "metadata": {},
   "source": [
    "+ conda install -c conda-forge pyautogui\n",
    "+ conda install -c conda-forge pyperclip\n",
    "\n",
    "+ pyautogui.position() # position in the screen\n",
    "\n",
    "### Passo a passo do programa\n",
    "\n",
    "+ Passo 1 - Entrar no sistema da empresa(entrar no link):\n",
    "https://drive.google.com/drive/folders/1mhXZ3JPAnekXP_4vX7Z_sJj35VWqayaR?usp=sharing\n",
    "\n",
    "+ Passo 2 - Navegar até o local onde está a base de dados(Entrar na pasta \"Exportar\")\n",
    "\n",
    "+ Passo 3 - Baixar a planilha de vendas\n",
    "\n",
    "+ Passo 4 - Calcular o faturamento e quantidade de produtos vendidos da base\n",
    "\n",
    "+ Passo 5 - Enviar email para a diretoria com a quantidade e o faturamento que calculamos"
   ]
  },
  {
   "cell_type": "code",
   "execution_count": 59,
   "id": "60c65098",
   "metadata": {},
   "outputs": [],
   "source": [
    "# Imports\n",
    "\n",
    "import time \n",
    "# Need previous installantion\n",
    "import pyautogui\n",
    "import pyperclip\n",
    "\n",
    "\n",
    "\n",
    "pyautogui.PAUSE = 0.5 # pause 1 sec to execute codes\n",
    "\n",
    "# Code\n",
    "\n",
    "# Passo 0 only if you want\n",
    "\n",
    "#     If the Google Chrome is closed\n",
    "#     pyautogui.press(\"winleft\") # select the windows key from the keyboard\n",
    "#     pyautogui.write(\"chrome\")  # insert the text 'chrome' in the search\n",
    "#     pyautogui.press(\"enter\")   # select the result\n",
    "\n",
    "\n",
    "# Step 1\n",
    "\n",
    "#     Open a new tab in Google Chrome(NECESSÁRIAMENTE O CHROME)\n",
    "\n",
    "pyautogui.hotkey('ctrl' , 't' ) # hotkey to open a new tab in chrome\n",
    "\n",
    "#     Enter the system link\n",
    "\n",
    "link = 'https://drive.google.com/drive/u/0/folders/1eBf_dX5MPJhz9A-WHLJ_wbDg5TY4i0V0' # saving the link in a variable\n",
    "pyperclip.copy(link) # copy the link in the search bar\n",
    "pyautogui.hotkey('ctrl', 'v') # paste link\n",
    "pyautogui.press('enter') # enter link\n",
    "\n",
    "# Step 2 \n",
    "\n",
    "# If needs a login (EMAIL / PASSWORD)\n",
    "# pyautogui.click(x, y) # where you need to put email\n",
    "# email = \"email@email.com\"\n",
    "# pyperclip.copy(email)\n",
    "# pyautogui.hotkey('ctrl', 'v') # paste link\n",
    "\n",
    "# The same for the password\n",
    "\n",
    "#    Open the past Explore from excel\n",
    "\n",
    "time.sleep(2) # 2 seconds stopped \n",
    "pyautogui.click(463,331, clicks=2) # double click in the folder\n",
    "# pyautogui.click(463,331, button='right') # click with the other button\n",
    "\n",
    "# Step 3\n",
    "\n",
    "time.sleep(2)\n",
    "pyautogui.click(489,427) # click in the database\n",
    "pyautogui.click(1663,194) # click in the button (...)\n",
    "pyautogui.click(1497,705) # click to download the database\n",
    "time.sleep(10) # wait to download\n",
    "\n",
    "# Step 4\n",
    "\n",
    "import pandas as pd # data analysis\n",
    "\n",
    "# the r says that this text doesn`t have special caracters\n",
    "# by default sheets =1 ,so if u want another sheets put the sheet number\n",
    "table = pd.read_excel(r'C:\\Users\\tayab\\Downloads\\Vendas - Dez.xlsx')\n",
    "\n",
    "revenues = table['Valor Final'].sum() # sum the revenues\n",
    "quantity = table['Quantidade'].sum() # sum the quantity\n",
    "\n",
    "from datetime import datetime\n",
    "\n",
    "# Step 5\n",
    "\n",
    "#     Send an email with data\n",
    "\n",
    "#         Enter gmail \n",
    "pyautogui.hotkey('ctrl' , 't' ) # hotkey to open a new tab in chrome\n",
    "link_gmail = \"https://mail.google.com\"\n",
    "pyperclip.copy(link_gmail) # copy the link\n",
    "pyautogui.hotkey('ctrl', 'v') # paste link\n",
    "pyautogui.press('enter') # enter link\n",
    "\n",
    "#         who will recive the email\n",
    "time.sleep(5)\n",
    "pyautogui.click(45,216)\n",
    "pyautogui.write('filhonatanael01@gmail.com') # paste link\n",
    "\n",
    "#        About \n",
    "pyautogui.hotkey('tab')\n",
    "pyautogui.hotkey('tab')\n",
    "now = datetime.now()\n",
    "\n",
    "pyperclip.copy('Relatório de vendas - ' + now.strftime(\"(%d/%m/%Y)\"))\n",
    "pyautogui.hotkey('ctrl', 'v') \n",
    "\n",
    "#        Content\n",
    "\n",
    "pyautogui.hotkey('tab')\n",
    "content = f\"\"\"\n",
    "Prezado destinatário,\n",
    "\n",
    "Na data de ontem tivemos:\n",
    "- faturamento total de R${revenues:,.2f}\n",
    "- quantidade de produtos vendidos: {quantity:,}\n",
    "\n",
    "Atenciosamente,\n",
    "Natanael Fernandes\n",
    "\"\"\"\n",
    "\n",
    "\n",
    "\n",
    "pyautogui.write(content) # paste link\n",
    "\n",
    "#        Send email\n",
    "pyautogui.hotkey('ctrl', 'enter')\n",
    "\n",
    "\n",
    "\n"
   ]
  },
  {
   "cell_type": "code",
   "execution_count": 31,
   "id": "aa31ab40",
   "metadata": {
    "scrolled": true
   },
   "outputs": [
    {
     "data": {
      "text/plain": [
       "Point(x=45, y=216)"
      ]
     },
     "execution_count": 31,
     "metadata": {},
     "output_type": "execute_result"
    }
   ],
   "source": [
    "time.sleep(5)\n",
    "pyautogui.position() # position in the screen"
   ]
  },
  {
   "cell_type": "code",
   "execution_count": 49,
   "id": "f9d43177",
   "metadata": {},
   "outputs": [
    {
     "name": "stdout",
     "output_type": "stream",
     "text": [
      "(24/06/2021)\n"
     ]
    }
   ],
   "source": [
    "now = datetime.now()\n",
    "date = now.strftime(\"(%d/%m/%Y)\")\n",
    "print(date)"
   ]
  },
  {
   "cell_type": "code",
   "execution_count": null,
   "id": "31995625",
   "metadata": {},
   "outputs": [],
   "source": []
  }
 ],
 "metadata": {
  "kernelspec": {
   "display_name": "Python 3",
   "language": "python",
   "name": "python3"
  },
  "language_info": {
   "codemirror_mode": {
    "name": "ipython",
    "version": 3
   },
   "file_extension": ".py",
   "mimetype": "text/x-python",
   "name": "python",
   "nbconvert_exporter": "python",
   "pygments_lexer": "ipython3",
   "version": "3.8.8"
  }
 },
 "nbformat": 4,
 "nbformat_minor": 5
}
